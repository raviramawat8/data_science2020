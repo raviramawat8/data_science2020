{
 "cells": [
  {
   "cell_type": "code",
   "execution_count": 1,
   "metadata": {},
   "outputs": [],
   "source": [
    "import numpy as np\n",
    "import matplotlib.pyplot as plt\n",
    "import pandas as pd\n",
    "%matplotlib inline"
   ]
  },
  {
   "cell_type": "code",
   "execution_count": 2,
   "metadata": {},
   "outputs": [],
   "source": [
    "#1D--> Series\n",
    "#2D --> DataFrame"
   ]
  },
  {
   "cell_type": "code",
   "execution_count": 3,
   "metadata": {},
   "outputs": [],
   "source": [
    "data = pd.Series(data=[1,2,3,4,6,5,6,5,7,8,8],dtype=complex)"
   ]
  },
  {
   "cell_type": "code",
   "execution_count": 4,
   "metadata": {},
   "outputs": [
    {
     "data": {
      "text/plain": [
       "0     1.000000+0.000000j\n",
       "1     2.000000+0.000000j\n",
       "2     3.000000+0.000000j\n",
       "3     4.000000+0.000000j\n",
       "4     6.000000+0.000000j\n",
       "5     5.000000+0.000000j\n",
       "6     6.000000+0.000000j\n",
       "7     5.000000+0.000000j\n",
       "8     7.000000+0.000000j\n",
       "9     8.000000+0.000000j\n",
       "10    8.000000+0.000000j\n",
       "dtype: complex128"
      ]
     },
     "execution_count": 4,
     "metadata": {},
     "output_type": "execute_result"
    }
   ],
   "source": [
    "data"
   ]
  },
  {
   "cell_type": "code",
   "execution_count": 39,
   "metadata": {},
   "outputs": [],
   "source": [
    "data = np.random.normal(65,5,10000)"
   ]
  },
  {
   "cell_type": "code",
   "execution_count": 6,
   "metadata": {},
   "outputs": [],
   "source": [
    "a = np.array([123,12,31,23,21,3,3,12,32,3,2,32,100,101])"
   ]
  },
  {
   "cell_type": "code",
   "execution_count": 7,
   "metadata": {},
   "outputs": [
    {
     "data": {
      "text/plain": [
       "35.57142857142857"
      ]
     },
     "execution_count": 7,
     "metadata": {},
     "output_type": "execute_result"
    }
   ],
   "source": [
    "np.mean(a)"
   ]
  },
  {
   "cell_type": "code",
   "execution_count": 8,
   "metadata": {},
   "outputs": [
    {
     "data": {
      "text/plain": [
       "22.0"
      ]
     },
     "execution_count": 8,
     "metadata": {},
     "output_type": "execute_result"
    }
   ],
   "source": [
    "np.median(a)"
   ]
  },
  {
   "cell_type": "code",
   "execution_count": 9,
   "metadata": {},
   "outputs": [
    {
     "data": {
      "image/png": "[encoded data removed]",
      "text/plain": [
       "<Figure size 432x288 with 1 Axes>"
      ]
     },
     "metadata": {
      "needs_background": "light"
     },
     "output_type": "display_data"
    }
   ],
   "source": [
    "plt.boxplot(a)\n",
    "plt.show()"
   ]
  },
  {
   "cell_type": "code",
   "execution_count": 10,
   "metadata": {},
   "outputs": [
    {
     "data": {
      "image/png": "[encoded data removed]",
      "text/plain": [
       "<Figure size 432x288 with 1 Axes>"
      ]
     },
     "metadata": {
      "needs_background": "light"
     },
     "output_type": "display_data"
    }
   ],
   "source": [
    "plt.hist(data,bins=100,ec='k')\n",
    "plt.show()"
   ]
  },
  {
   "cell_type": "code",
   "execution_count": 11,
   "metadata": {},
   "outputs": [
    {
     "data": {
      "text/plain": [
       "64.96986087767385"
      ]
     },
     "execution_count": 11,
     "metadata": {},
     "output_type": "execute_result"
    }
   ],
   "source": [
    "data.mean()"
   ]
  },
  {
   "cell_type": "code",
   "execution_count": 12,
   "metadata": {},
   "outputs": [
    {
     "data": {
      "text/plain": [
       "5.015641558568983"
      ]
     },
     "execution_count": 12,
     "metadata": {},
     "output_type": "execute_result"
    }
   ],
   "source": [
    "data.std()"
   ]
  },
  {
   "cell_type": "code",
   "execution_count": 15,
   "metadata": {},
   "outputs": [
    {
     "data": {
      "text/plain": [
       "10000"
      ]
     },
     "execution_count": 15,
     "metadata": {},
     "output_type": "execute_result"
    }
   ],
   "source": [
    "data.size"
   ]
  },
  {
   "cell_type": "code",
   "execution_count": 16,
   "metadata": {},
   "outputs": [],
   "source": [
    "s = pd.Series(data=data)"
   ]
  },
  {
   "cell_type": "code",
   "execution_count": 17,
   "metadata": {},
   "outputs": [
    {
     "data": {
      "text/plain": [
       "0       67.365081\n",
       "1       56.994883\n",
       "2       66.108741\n",
       "3       60.580652\n",
       "4       60.921482\n",
       "          ...    \n",
       "9995    69.512621\n",
       "9996    64.128761\n",
       "9997    67.940799\n",
       "9998    73.758769\n",
       "9999    65.003810\n",
       "Length: 10000, dtype: float64"
      ]
     },
     "execution_count": 17,
     "metadata": {},
     "output_type": "execute_result"
    }
   ],
   "source": [
    "s"
   ]
  },
  {
   "cell_type": "code",
   "execution_count": 20,
   "metadata": {},
   "outputs": [
    {
     "data": {
      "image/png": "[encoded data removed]",
      "text/plain": [
       "<Figure size 432x288 with 1 Axes>"
      ]
     },
     "metadata": {
      "needs_background": "light"
     },
     "output_type": "display_data"
    }
   ],
   "source": [
    "plt.hist(s,30,ec='b')\n",
    "plt.show()"
   ]
  },
  {
   "cell_type": "code",
   "execution_count": 22,
   "metadata": {},
   "outputs": [
    {
     "data": {
      "text/plain": [
       "0    67.365081\n",
       "1    56.994883\n",
       "2    66.108741\n",
       "3    60.580652\n",
       "4    60.921482\n",
       "5    73.127124\n",
       "6    66.271832\n",
       "7    67.009863\n",
       "8    64.822566\n",
       "9    68.934538\n",
       "dtype: float64"
      ]
     },
     "execution_count": 22,
     "metadata": {},
     "output_type": "execute_result"
    }
   ],
   "source": [
    "s[:10]"
   ]
  },
  {
   "cell_type": "code",
   "execution_count": 23,
   "metadata": {},
   "outputs": [
    {
     "data": {
      "text/plain": [
       "0    67.365081\n",
       "1    56.994883\n",
       "2    66.108741\n",
       "3    60.580652\n",
       "4    60.921482\n",
       "dtype: float64"
      ]
     },
     "execution_count": 23,
     "metadata": {},
     "output_type": "execute_result"
    }
   ],
   "source": [
    "s.head()"
   ]
  },
  {
   "cell_type": "code",
   "execution_count": 24,
   "metadata": {},
   "outputs": [
    {
     "data": {
      "text/plain": [
       "9995    69.512621\n",
       "9996    64.128761\n",
       "9997    67.940799\n",
       "9998    73.758769\n",
       "9999    65.003810\n",
       "dtype: float64"
      ]
     },
     "execution_count": 24,
     "metadata": {},
     "output_type": "execute_result"
    }
   ],
   "source": [
    "s.tail()"
   ]
  },
  {
   "cell_type": "code",
   "execution_count": 25,
   "metadata": {},
   "outputs": [
    {
     "name": "stdout",
     "output_type": "stream",
     "text": [
      "A\n",
      "B\n",
      "C\n",
      "D\n",
      "E\n",
      "F\n",
      "G\n",
      "H\n",
      "I\n",
      "J\n",
      "K\n",
      "L\n",
      "M\n",
      "N\n",
      "O\n",
      "P\n",
      "Q\n",
      "R\n",
      "S\n",
      "T\n",
      "U\n",
      "V\n",
      "W\n",
      "X\n",
      "Y\n",
      "Z\n"
     ]
    }
   ],
   "source": [
    "for var in range(65,91):\n",
    "    print(chr(var))"
   ]
  },
  {
   "cell_type": "code",
   "execution_count": 31,
   "metadata": {},
   "outputs": [],
   "source": [
    "l1 = [chr(var) for var in range(65,91)]\n",
    "l2 = [chr(var) for var in range(90,64,-1)]"
   ]
  },
  {
   "cell_type": "code",
   "execution_count": 32,
   "metadata": {},
   "outputs": [
    {
     "data": {
      "text/plain": [
       "['Z',\n",
       " 'Y',\n",
       " 'X',\n",
       " 'W',\n",
       " 'V',\n",
       " 'U',\n",
       " 'T',\n",
       " 'S',\n",
       " 'R',\n",
       " 'Q',\n",
       " 'P',\n",
       " 'O',\n",
       " 'N',\n",
       " 'M',\n",
       " 'L',\n",
       " 'K',\n",
       " 'J',\n",
       " 'I',\n",
       " 'H',\n",
       " 'G',\n",
       " 'F',\n",
       " 'E',\n",
       " 'D',\n",
       " 'C',\n",
       " 'B',\n",
       " 'A']"
      ]
     },
     "execution_count": 32,
     "metadata": {},
     "output_type": "execute_result"
    }
   ],
   "source": [
    "l2"
   ]
  },
  {
   "cell_type": "code",
   "execution_count": 33,
   "metadata": {},
   "outputs": [],
   "source": [
    "s = pd.Series(data=l2,index=l1)"
   ]
  },
  {
   "cell_type": "code",
   "execution_count": 38,
   "metadata": {},
   "outputs": [
    {
     "data": {
      "text/plain": [
       "A    Z\n",
       "dtype: object"
      ]
     },
     "execution_count": 38,
     "metadata": {},
     "output_type": "execute_result"
    }
   ],
   "source": [
    "s[s == 'Z']"
   ]
  },
  {
   "cell_type": "code",
   "execution_count": 42,
   "metadata": {},
   "outputs": [],
   "source": [
    "data=data.reshape(-1,100)"
   ]
  },
  {
   "cell_type": "code",
   "execution_count": 47,
   "metadata": {},
   "outputs": [],
   "source": [
    "df=pd.DataFrame(data=data,dtype=int)"
   ]
  },
  {
   "cell_type": "code",
   "execution_count": 57,
   "metadata": {},
   "outputs": [
    {
     "data": {
      "text/plain": [
       "1     63\n",
       "3     56\n",
       "8     63\n",
       "9     59\n",
       "10    63\n",
       "11    63\n",
       "12    58\n",
       "13    63\n",
       "14    64\n",
       "15    63\n",
       "16    60\n",
       "17    60\n",
       "19    53\n",
       "24    64\n",
       "25    58\n",
       "26    61\n",
       "27    54\n",
       "29    64\n",
       "33    62\n",
       "34    59\n",
       "37    64\n",
       "39    64\n",
       "40    60\n",
       "41    57\n",
       "43    52\n",
       "45    58\n",
       "46    63\n",
       "48    61\n",
       "52    60\n",
       "53    56\n",
       "54    61\n",
       "55    64\n",
       "61    64\n",
       "62    61\n",
       "64    60\n",
       "65    62\n",
       "67    61\n",
       "68    57\n",
       "69    57\n",
       "70    61\n",
       "71    57\n",
       "73    64\n",
       "74    61\n",
       "75    59\n",
       "77    60\n",
       "78    59\n",
       "79    62\n",
       "80    59\n",
       "84    57\n",
       "86    64\n",
       "87    59\n",
       "88    61\n",
       "90    61\n",
       "91    61\n",
       "93    59\n",
       "94    61\n",
       "95    59\n",
       "96    62\n",
       "99    56\n",
       "Name: 1, dtype: int32"
      ]
     },
     "execution_count": 57,
     "metadata": {},
     "output_type": "execute_result"
    }
   ],
   "source": [
    "df[1][df[1] < 65]"
   ]
  },
  {
   "cell_type": "code",
   "execution_count": 64,
   "metadata": {},
   "outputs": [
    {
     "data": {
      "text/plain": [
       "0     64.59\n",
       "1     63.95\n",
       "2     64.27\n",
       "3     64.44\n",
       "4     65.13\n",
       "      ...  \n",
       "95    64.76\n",
       "96    64.71\n",
       "97    64.88\n",
       "98    64.51\n",
       "99    64.72\n",
       "Length: 100, dtype: float64"
      ]
     },
     "execution_count": 64,
     "metadata": {},
     "output_type": "execute_result"
    }
   ],
   "source": [
    "df.mean()"
   ]
  },
  {
   "cell_type": "code",
   "execution_count": 65,
   "metadata": {},
   "outputs": [
    {
     "data": {
      "text/plain": [
       "64.59"
      ]
     },
     "execution_count": 65,
     "metadata": {},
     "output_type": "execute_result"
    }
   ],
   "source": [
    "df[0].mean()"
   ]
  },
  {
   "cell_type": "code",
   "execution_count": 61,
   "metadata": {},
   "outputs": [
    {
     "data": {
      "text/html": [
       "<div>\n",
       "<style scoped>\n",
       "    .dataframe tbody tr th:only-of-type {\n",
       "        vertical-align: middle;\n",
       "    }\n",
       "\n",
       "    .dataframe tbody tr th {\n",
       "        vertical-align: top;\n",
       "    }\n",
       "\n",
       "    .dataframe thead th {\n",
       "        text-align: right;\n",
       "    }\n",
       "</style>\n",
       "<table border=\"1\" class=\"dataframe\">\n",
       "  <thead>\n",
       "    <tr style=\"text-align: right;\">\n",
       "      <th></th>\n",
       "      <th>0</th>\n",
       "      <th>1</th>\n",
       "      <th>2</th>\n",
       "      <th>3</th>\n",
       "      <th>4</th>\n",
       "      <th>5</th>\n",
       "      <th>6</th>\n",
       "      <th>7</th>\n",
       "      <th>8</th>\n",
       "      <th>9</th>\n",
       "      <th>...</th>\n",
       "      <th>90</th>\n",
       "      <th>91</th>\n",
       "      <th>92</th>\n",
       "      <th>93</th>\n",
       "      <th>94</th>\n",
       "      <th>95</th>\n",
       "      <th>96</th>\n",
       "      <th>97</th>\n",
       "      <th>98</th>\n",
       "      <th>99</th>\n",
       "    </tr>\n",
       "  </thead>\n",
       "  <tbody>\n",
       "    <tr>\n",
       "      <th>0</th>\n",
       "      <td>63</td>\n",
       "      <td>69</td>\n",
       "      <td>63</td>\n",
       "      <td>62</td>\n",
       "      <td>63</td>\n",
       "      <td>72</td>\n",
       "      <td>69</td>\n",
       "      <td>69</td>\n",
       "      <td>67</td>\n",
       "      <td>66</td>\n",
       "      <td>...</td>\n",
       "      <td>70</td>\n",
       "      <td>66</td>\n",
       "      <td>62</td>\n",
       "      <td>72</td>\n",
       "      <td>68</td>\n",
       "      <td>67</td>\n",
       "      <td>63</td>\n",
       "      <td>59</td>\n",
       "      <td>61</td>\n",
       "      <td>61</td>\n",
       "    </tr>\n",
       "    <tr>\n",
       "      <th>1</th>\n",
       "      <td>67</td>\n",
       "      <td>63</td>\n",
       "      <td>70</td>\n",
       "      <td>57</td>\n",
       "      <td>64</td>\n",
       "      <td>61</td>\n",
       "      <td>57</td>\n",
       "      <td>65</td>\n",
       "      <td>64</td>\n",
       "      <td>50</td>\n",
       "      <td>...</td>\n",
       "      <td>70</td>\n",
       "      <td>62</td>\n",
       "      <td>68</td>\n",
       "      <td>65</td>\n",
       "      <td>61</td>\n",
       "      <td>66</td>\n",
       "      <td>71</td>\n",
       "      <td>60</td>\n",
       "      <td>61</td>\n",
       "      <td>70</td>\n",
       "    </tr>\n",
       "    <tr>\n",
       "      <th>2</th>\n",
       "      <td>65</td>\n",
       "      <td>66</td>\n",
       "      <td>65</td>\n",
       "      <td>71</td>\n",
       "      <td>67</td>\n",
       "      <td>70</td>\n",
       "      <td>70</td>\n",
       "      <td>60</td>\n",
       "      <td>69</td>\n",
       "      <td>61</td>\n",
       "      <td>...</td>\n",
       "      <td>55</td>\n",
       "      <td>62</td>\n",
       "      <td>62</td>\n",
       "      <td>60</td>\n",
       "      <td>65</td>\n",
       "      <td>68</td>\n",
       "      <td>61</td>\n",
       "      <td>66</td>\n",
       "      <td>58</td>\n",
       "      <td>65</td>\n",
       "    </tr>\n",
       "    <tr>\n",
       "      <th>3</th>\n",
       "      <td>65</td>\n",
       "      <td>56</td>\n",
       "      <td>70</td>\n",
       "      <td>61</td>\n",
       "      <td>61</td>\n",
       "      <td>55</td>\n",
       "      <td>68</td>\n",
       "      <td>66</td>\n",
       "      <td>67</td>\n",
       "      <td>77</td>\n",
       "      <td>...</td>\n",
       "      <td>56</td>\n",
       "      <td>71</td>\n",
       "      <td>65</td>\n",
       "      <td>64</td>\n",
       "      <td>63</td>\n",
       "      <td>69</td>\n",
       "      <td>75</td>\n",
       "      <td>67</td>\n",
       "      <td>69</td>\n",
       "      <td>61</td>\n",
       "    </tr>\n",
       "    <tr>\n",
       "      <th>4</th>\n",
       "      <td>60</td>\n",
       "      <td>72</td>\n",
       "      <td>64</td>\n",
       "      <td>63</td>\n",
       "      <td>71</td>\n",
       "      <td>73</td>\n",
       "      <td>57</td>\n",
       "      <td>68</td>\n",
       "      <td>65</td>\n",
       "      <td>67</td>\n",
       "      <td>...</td>\n",
       "      <td>58</td>\n",
       "      <td>68</td>\n",
       "      <td>64</td>\n",
       "      <td>61</td>\n",
       "      <td>70</td>\n",
       "      <td>66</td>\n",
       "      <td>58</td>\n",
       "      <td>66</td>\n",
       "      <td>67</td>\n",
       "      <td>62</td>\n",
       "    </tr>\n",
       "    <tr>\n",
       "      <th>...</th>\n",
       "      <td>...</td>\n",
       "      <td>...</td>\n",
       "      <td>...</td>\n",
       "      <td>...</td>\n",
       "      <td>...</td>\n",
       "      <td>...</td>\n",
       "      <td>...</td>\n",
       "      <td>...</td>\n",
       "      <td>...</td>\n",
       "      <td>...</td>\n",
       "      <td>...</td>\n",
       "      <td>...</td>\n",
       "      <td>...</td>\n",
       "      <td>...</td>\n",
       "      <td>...</td>\n",
       "      <td>...</td>\n",
       "      <td>...</td>\n",
       "      <td>...</td>\n",
       "      <td>...</td>\n",
       "      <td>...</td>\n",
       "      <td>...</td>\n",
       "    </tr>\n",
       "    <tr>\n",
       "      <th>95</th>\n",
       "      <td>67</td>\n",
       "      <td>59</td>\n",
       "      <td>67</td>\n",
       "      <td>68</td>\n",
       "      <td>65</td>\n",
       "      <td>57</td>\n",
       "      <td>71</td>\n",
       "      <td>62</td>\n",
       "      <td>65</td>\n",
       "      <td>67</td>\n",
       "      <td>...</td>\n",
       "      <td>58</td>\n",
       "      <td>58</td>\n",
       "      <td>67</td>\n",
       "      <td>73</td>\n",
       "      <td>65</td>\n",
       "      <td>70</td>\n",
       "      <td>64</td>\n",
       "      <td>62</td>\n",
       "      <td>69</td>\n",
       "      <td>64</td>\n",
       "    </tr>\n",
       "    <tr>\n",
       "      <th>96</th>\n",
       "      <td>70</td>\n",
       "      <td>62</td>\n",
       "      <td>75</td>\n",
       "      <td>69</td>\n",
       "      <td>65</td>\n",
       "      <td>55</td>\n",
       "      <td>65</td>\n",
       "      <td>59</td>\n",
       "      <td>67</td>\n",
       "      <td>62</td>\n",
       "      <td>...</td>\n",
       "      <td>57</td>\n",
       "      <td>67</td>\n",
       "      <td>68</td>\n",
       "      <td>69</td>\n",
       "      <td>71</td>\n",
       "      <td>65</td>\n",
       "      <td>61</td>\n",
       "      <td>62</td>\n",
       "      <td>62</td>\n",
       "      <td>65</td>\n",
       "    </tr>\n",
       "    <tr>\n",
       "      <th>97</th>\n",
       "      <td>70</td>\n",
       "      <td>68</td>\n",
       "      <td>65</td>\n",
       "      <td>72</td>\n",
       "      <td>69</td>\n",
       "      <td>55</td>\n",
       "      <td>67</td>\n",
       "      <td>62</td>\n",
       "      <td>70</td>\n",
       "      <td>71</td>\n",
       "      <td>...</td>\n",
       "      <td>60</td>\n",
       "      <td>75</td>\n",
       "      <td>61</td>\n",
       "      <td>58</td>\n",
       "      <td>61</td>\n",
       "      <td>70</td>\n",
       "      <td>67</td>\n",
       "      <td>69</td>\n",
       "      <td>65</td>\n",
       "      <td>62</td>\n",
       "    </tr>\n",
       "    <tr>\n",
       "      <th>98</th>\n",
       "      <td>64</td>\n",
       "      <td>71</td>\n",
       "      <td>59</td>\n",
       "      <td>59</td>\n",
       "      <td>58</td>\n",
       "      <td>57</td>\n",
       "      <td>69</td>\n",
       "      <td>62</td>\n",
       "      <td>56</td>\n",
       "      <td>53</td>\n",
       "      <td>...</td>\n",
       "      <td>65</td>\n",
       "      <td>63</td>\n",
       "      <td>60</td>\n",
       "      <td>57</td>\n",
       "      <td>59</td>\n",
       "      <td>56</td>\n",
       "      <td>65</td>\n",
       "      <td>60</td>\n",
       "      <td>58</td>\n",
       "      <td>68</td>\n",
       "    </tr>\n",
       "    <tr>\n",
       "      <th>99</th>\n",
       "      <td>60</td>\n",
       "      <td>56</td>\n",
       "      <td>69</td>\n",
       "      <td>69</td>\n",
       "      <td>56</td>\n",
       "      <td>56</td>\n",
       "      <td>67</td>\n",
       "      <td>56</td>\n",
       "      <td>69</td>\n",
       "      <td>71</td>\n",
       "      <td>...</td>\n",
       "      <td>67</td>\n",
       "      <td>64</td>\n",
       "      <td>64</td>\n",
       "      <td>74</td>\n",
       "      <td>68</td>\n",
       "      <td>73</td>\n",
       "      <td>72</td>\n",
       "      <td>68</td>\n",
       "      <td>62</td>\n",
       "      <td>65</td>\n",
       "    </tr>\n",
       "  </tbody>\n",
       "</table>\n",
       "<p>100 rows × 100 columns</p>\n",
       "</div>"
      ],
      "text/plain": [
       "    0   1   2   3   4   5   6   7   8   9   ...  90  91  92  93  94  95  96  \\\n",
       "0   63  69  63  62  63  72  69  69  67  66  ...  70  66  62  72  68  67  63   \n",
       "1   67  63  70  57  64  61  57  65  64  50  ...  70  62  68  65  61  66  71   \n",
       "2   65  66  65  71  67  70  70  60  69  61  ...  55  62  62  60  65  68  61   \n",
       "3   65  56  70  61  61  55  68  66  67  77  ...  56  71  65  64  63  69  75   \n",
       "4   60  72  64  63  71  73  57  68  65  67  ...  58  68  64  61  70  66  58   \n",
       "..  ..  ..  ..  ..  ..  ..  ..  ..  ..  ..  ...  ..  ..  ..  ..  ..  ..  ..   \n",
       "95  67  59  67  68  65  57  71  62  65  67  ...  58  58  67  73  65  70  64   \n",
       "96  70  62  75  69  65  55  65  59  67  62  ...  57  67  68  69  71  65  61   \n",
       "97  70  68  65  72  69  55  67  62  70  71  ...  60  75  61  58  61  70  67   \n",
       "98  64  71  59  59  58  57  69  62  56  53  ...  65  63  60  57  59  56  65   \n",
       "99  60  56  69  69  56  56  67  56  69  71  ...  67  64  64  74  68  73  72   \n",
       "\n",
       "    97  98  99  \n",
       "0   59  61  61  \n",
       "1   60  61  70  \n",
       "2   66  58  65  \n",
       "3   67  69  61  \n",
       "4   66  67  62  \n",
       "..  ..  ..  ..  \n",
       "95  62  69  64  \n",
       "96  62  62  65  \n",
       "97  69  65  62  \n",
       "98  60  58  68  \n",
       "99  68  62  65  \n",
       "\n",
       "[100 rows x 100 columns]"
      ]
     },
     "execution_count": 61,
     "metadata": {},
     "output_type": "execute_result"
    }
   ],
   "source": [
    "df"
   ]
  },
  {
   "cell_type": "code",
   "execution_count": 2,
   "metadata": {},
   "outputs": [],
   "source": [
    "import numpy as np\n",
    "import pandas as pd\n",
    "import matplotlib.pyplot as plt\n",
    "%matplotlib inline"
   ]
  },
  {
   "cell_type": "code",
   "execution_count": null,
   "metadata": {},
   "outputs": [],
   "source": [
    "data = {\"Age\": [25,26,25,23,30,29,23,34,40,30,51,46],\n",
    "        \"Name\":[Tom,James,Ricky,Vin,Steve,Smith,Jack,Lee,David,Gasper,Betina,Andres],\n",
    "        \"Ratings\":\n",
    "        }"
   ]
  },
  {
   "cell_type": "code",
   "execution_count": null,
   "metadata": {},
   "outputs": [],
   "source": [
    "[4.23,3.24,3.98,2.56,3.20,4.60,3.80,3.78,2.98,4.80,4.10,3.65]"
   ]
  }
 ],
 "metadata": {
  "kernelspec": {
   "display_name": "Python 3",
   "language": "python",
   "name": "python3"
  },
  "language_info": {
   "codemirror_mode": {
    "name": "ipython",
    "version": 3
   },
   "file_extension": ".py",
   "mimetype": "text/x-python",
   "name": "python",
   "nbconvert_exporter": "python",
   "pygments_lexer": "ipython3",
   "version": "3.7.6"
  }
 },
 "nbformat": 4,
 "nbformat_minor": 4
}
